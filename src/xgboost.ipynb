{
 "cells": [
  {
   "cell_type": "code",
   "execution_count": 1,
   "metadata": {
    "collapsed": false
   },
   "outputs": [],
   "source": [
    "%matplotlib inline  \n",
    "import pandas as pd\n",
    "import numpy as np\n",
    "import math\n",
    "import datetime\n",
    "import  matplotlib.pyplot as plt"
   ]
  },
  {
   "cell_type": "code",
   "execution_count": 2,
   "metadata": {
    "collapsed": false
   },
   "outputs": [],
   "source": [
    "train_m = pd.read_csv('/Users/vsokolov/papers/dl-stats/data/airbnb/train_starting.csv', index_col=0)\n",
    "test_m = pd.read_csv('/Users/vsokolov/papers/dl-stats/data/airbnb/test_starting.csv', index_col = 0)"
   ]
  },
  {
   "cell_type": "code",
   "execution_count": 3,
   "metadata": {
    "collapsed": false
   },
   "outputs": [
    {
     "name": "stdout",
     "output_type": "stream",
     "text": [
      "['id', 'date_account_created', 'timestamp_first_active', 'date_first_booking', 'gender', 'age', 'signup_method', 'signup_flow', 'language', 'affiliate_channel', 'affiliate_provider', 'first_affiliate_tracked', 'signup_app', 'first_device_type', 'first_browser', 'country_destination', 'lag_account_created', 'lag_first_active', 'lag_account_created_first_active', 'bookings', 'population_in_thousands', 'sum_secs_elapsed', 'counts']\n"
     ]
    }
   ],
   "source": [
    "#original column names of training data\n",
    "print list(train_m.columns)"
   ]
  },
  {
   "cell_type": "code",
   "execution_count": 4,
   "metadata": {
    "collapsed": false
   },
   "outputs": [
    {
     "data": {
      "text/plain": [
       "[None, None, None, None, None, None, None, None, None]"
      ]
     },
     "execution_count": 4,
     "metadata": {},
     "output_type": "execute_result"
    }
   ],
   "source": [
    "#the toremove is a list of columns to be removed from the original dataset\n",
    "excl = list(train_m.columns)\n",
    "toremove = ['id', 'date_account_created', 'timestamp_first_active', 'date_first_booking', 'population_in_thousands',\n",
    "            'lag_account_created', 'bookings', 'lag_first_active', \n",
    "            #'lag_account_created_first_active', \n",
    "              'country_destination'] \n",
    "map(lambda x: excl.remove(x), toremove)"
   ]
  },
  {
   "cell_type": "code",
   "execution_count": 5,
   "metadata": {
    "collapsed": true
   },
   "outputs": [],
   "source": [
    "##applying to remove to the dataset and left with a clean training and test dataset\n",
    "train_xcl = train_m.loc[:, excl]\n",
    "test_xcl = test_m.loc[:, excl]"
   ]
  },
  {
   "cell_type": "code",
   "execution_count": 6,
   "metadata": {
    "collapsed": false
   },
   "outputs": [
    {
     "name": "stderr",
     "output_type": "stream",
     "text": [
      "/Users/vsokolov/anaconda2/lib/python2.7/site-packages/pandas/core/frame.py:840: UserWarning: DataFrame columns are not unique, some columns will be omitted.\n",
      "  \"columns will be omitted.\", UserWarning)\n"
     ]
    }
   ],
   "source": [
    "#convert training and test x data into a sparce matrix dictionary\n",
    "from sklearn.feature_extraction import DictVectorizer\n",
    "\n",
    "frames = [train_xcl, test_xcl]\n",
    "all_data = pd.concat(frames)\n",
    "all_data = all_data.T.to_dict().values()\n",
    "train_xdic = train_xcl.T.to_dict().values()\n",
    "test_xdic = test_xcl.T.to_dict().values()\n",
    "\n",
    "vec = DictVectorizer()\n",
    "vec.fit(all_data)\n",
    "train_xvec = vec.transform(train_xdic)\n",
    "test_xvec = vec.transform(test_xdic)"
   ]
  },
  {
   "cell_type": "code",
   "execution_count": 7,
   "metadata": {
    "collapsed": true
   },
   "outputs": [],
   "source": [
    "train_y = train_m.loc[:,'country_destination']"
   ]
  },
  {
   "cell_type": "code",
   "execution_count": 8,
   "metadata": {
    "collapsed": false
   },
   "outputs": [
    {
     "name": "stdout",
     "output_type": "stream",
     "text": [
      "<type 'numpy.ndarray'>\n"
     ]
    }
   ],
   "source": [
    "#dumbify y variable\n",
    "from sklearn import preprocessing\n",
    "le = preprocessing.LabelEncoder()\n",
    "le.fit(train_y)\n",
    "train_ytrans = le.transform(train_y)\n",
    "print type(train_ytrans)"
   ]
  },
  {
   "cell_type": "code",
   "execution_count": 9,
   "metadata": {
    "collapsed": false
   },
   "outputs": [],
   "source": [
    "#First model fitted using XGBoost\n",
    "import xgboost as xgb\n",
    "import numpy as np\n",
    "params = {}\n",
    "params[\"objective\"] = \"multi:softmax\"\n",
    "params[\"num_class\"] = 12\n",
    "params[\"eta\"] = 0.3\n",
    "params[\"min_child_weight\"] = 6\n",
    "params[\"subsample\"] = 0.7\n",
    "params[\"colsample_bytree\"] = 0.7\n",
    "params[\"scale_pos_weight\"] = 1\n",
    "params[\"max_depth\"] = 3\n",
    "params['eval_metric'] = \"ndcg@5\"\n",
    "params['nthread'] = 4\n",
    "\n",
    "plst = list(params.items())\n",
    "\n",
    "dtrain = xgb.DMatrix(train_xvec, label=train_ytrans)\n",
    "dtest = xgb.DMatrix(test_xvec)\n",
    "num_round = 25"
   ]
  },
  {
   "cell_type": "code",
   "execution_count": 10,
   "metadata": {
    "collapsed": false
   },
   "outputs": [],
   "source": [
    "def ceate_feature_map(features):\n",
    "    outfile = open('xgb.fmap', 'w')\n",
    "    i = 0\n",
    "    d = {}\n",
    "    for feat in features:\n",
    "        d[\"f%s\"%str(i)] = feat\n",
    "        outfile.write('{0}\\t{1}\\tq\\n'.format(i, feat))\n",
    "        i = i + 1\n",
    "\n",
    "    outfile.close()\n",
    "    return d\n",
    "\n",
    "feat_map = ceate_feature_map(vec.feature_names_)"
   ]
  },
  {
   "cell_type": "code",
   "execution_count": 11,
   "metadata": {
    "collapsed": true
   },
   "outputs": [],
   "source": [
    "#fitting first model\n",
    "model = xgb.train(plst, dtrain, num_round, verbose_eval=True)"
   ]
  },
  {
   "cell_type": "code",
   "execution_count": 12,
   "metadata": {
    "collapsed": true
   },
   "outputs": [],
   "source": [
    "#This model2 was fit using xgboost.XGBClassifier, which should be treated as any ohter model in scikitlearn\n",
    "import numpy as np\n",
    "model2 = xgb.XGBClassifier(max_depth = 5, learning_rate = 0.1, n_estimators = 30, silent = False, \\\n",
    "                           objective =\"multi:softprob\")"
   ]
  },
  {
   "cell_type": "code",
   "execution_count": 13,
   "metadata": {
    "collapsed": false
   },
   "outputs": [
    {
     "data": {
      "text/plain": [
       "XGBClassifier(base_score=0.5, colsample_bylevel=1, colsample_bytree=1,\n",
       "       gamma=0, learning_rate=0.1, max_delta_step=0, max_depth=5,\n",
       "       min_child_weight=1, missing=None, n_estimators=30, nthread=-1,\n",
       "       objective='multi:softprob', reg_alpha=0, reg_lambda=1,\n",
       "       scale_pos_weight=1, seed=0, silent=False, subsample=1)"
      ]
     },
     "execution_count": 13,
     "metadata": {},
     "output_type": "execute_result"
    }
   ],
   "source": [
    "#fitting model two\n",
    "model2.fit(train_xvec, train_ytrans, verbose = True, eval_metric = \"ndcg@5\")"
   ]
  },
  {
   "cell_type": "code",
   "execution_count": 14,
   "metadata": {
    "collapsed": true
   },
   "outputs": [],
   "source": [
    "#prediction of first model \n",
    "pred = map(int,model.predict(dtrain))\n",
    "predinv = le.inverse_transform(pred)"
   ]
  },
  {
   "cell_type": "code",
   "execution_count": 15,
   "metadata": {
    "collapsed": true
   },
   "outputs": [],
   "source": [
    "#prediction of second model\n",
    "pred2 = model2.predict(train_xvec)\n",
    "pred2inv = le.inverse_transform(pred2)"
   ]
  },
  {
   "cell_type": "code",
   "execution_count": 101,
   "metadata": {
    "collapsed": false
   },
   "outputs": [],
   "source": [
    "imp =pd.DataFrame(model.get_fscore().items(), columns=['feature','importance']).sort_values('importance', ascending=False)\n",
    "n = len(imp.feature)\n",
    "for i in range(n):\n",
    "    imp.set_value(i,'feature', feat_map[imp.feature[i]])"
   ]
  },
  {
   "cell_type": "code",
   "execution_count": 103,
   "metadata": {
    "collapsed": false
   },
   "outputs": [
    {
     "data": {
      "text/html": [
       "<div>\n",
       "<table border=\"1\" class=\"dataframe\">\n",
       "  <thead>\n",
       "    <tr style=\"text-align: right;\">\n",
       "      <th></th>\n",
       "      <th>feature</th>\n",
       "      <th>importance</th>\n",
       "    </tr>\n",
       "  </thead>\n",
       "  <tbody>\n",
       "    <tr>\n",
       "      <th>41</th>\n",
       "      <td>sum_secs_elapsed</td>\n",
       "      <td>0.138860</td>\n",
       "    </tr>\n",
       "    <tr>\n",
       "      <th>25</th>\n",
       "      <td>counts</td>\n",
       "      <td>0.093981</td>\n",
       "    </tr>\n",
       "    <tr>\n",
       "      <th>11</th>\n",
       "      <td>signup_flow</td>\n",
       "      <td>0.058606</td>\n",
       "    </tr>\n",
       "    <tr>\n",
       "      <th>50</th>\n",
       "      <td>gender=FEMALE</td>\n",
       "      <td>0.049102</td>\n",
       "    </tr>\n",
       "    <tr>\n",
       "      <th>51</th>\n",
       "      <td>gender=MALE</td>\n",
       "      <td>0.042767</td>\n",
       "    </tr>\n",
       "    <tr>\n",
       "      <th>10</th>\n",
       "      <td>signup_method=basic</td>\n",
       "      <td>0.037487</td>\n",
       "    </tr>\n",
       "    <tr>\n",
       "      <th>5</th>\n",
       "      <td>signup_app=Web</td>\n",
       "      <td>0.035375</td>\n",
       "    </tr>\n",
       "    <tr>\n",
       "      <th>18</th>\n",
       "      <td>first_device_type=Mac Desktop</td>\n",
       "      <td>0.034319</td>\n",
       "    </tr>\n",
       "    <tr>\n",
       "      <th>35</th>\n",
       "      <td>age=20-24</td>\n",
       "      <td>0.031151</td>\n",
       "    </tr>\n",
       "    <tr>\n",
       "      <th>59</th>\n",
       "      <td>age=30-34</td>\n",
       "      <td>0.031151</td>\n",
       "    </tr>\n",
       "    <tr>\n",
       "      <th>3</th>\n",
       "      <td>affiliate_channel=other</td>\n",
       "      <td>0.028511</td>\n",
       "    </tr>\n",
       "    <tr>\n",
       "      <th>60</th>\n",
       "      <td>age=35-39</td>\n",
       "      <td>0.028511</td>\n",
       "    </tr>\n",
       "    <tr>\n",
       "      <th>40</th>\n",
       "      <td>signup_method=facebook</td>\n",
       "      <td>0.027455</td>\n",
       "    </tr>\n",
       "    <tr>\n",
       "      <th>54</th>\n",
       "      <td>first_affiliate_tracked=untracked</td>\n",
       "      <td>0.025871</td>\n",
       "    </tr>\n",
       "    <tr>\n",
       "      <th>58</th>\n",
       "      <td>age=25-29</td>\n",
       "      <td>0.020591</td>\n",
       "    </tr>\n",
       "  </tbody>\n",
       "</table>\n",
       "</div>"
      ],
      "text/plain": [
       "                              feature  importance\n",
       "41                   sum_secs_elapsed    0.138860\n",
       "25                             counts    0.093981\n",
       "11                        signup_flow    0.058606\n",
       "50                      gender=FEMALE    0.049102\n",
       "51                        gender=MALE    0.042767\n",
       "10                signup_method=basic    0.037487\n",
       "5                      signup_app=Web    0.035375\n",
       "18      first_device_type=Mac Desktop    0.034319\n",
       "35                          age=20-24    0.031151\n",
       "59                          age=30-34    0.031151\n",
       "3             affiliate_channel=other    0.028511\n",
       "60                          age=35-39    0.028511\n",
       "40             signup_method=facebook    0.027455\n",
       "54  first_affiliate_tracked=untracked    0.025871\n",
       "58                          age=25-29    0.020591"
      ]
     },
     "execution_count": 103,
     "metadata": {},
     "output_type": "execute_result"
    }
   ],
   "source": [
    "imp.importance = imp.importance/sum(imp.importance)\n",
    "imp[0:15]"
   ]
  },
  {
   "cell_type": "code",
   "execution_count": 148,
   "metadata": {
    "collapsed": false
   },
   "outputs": [
    {
     "name": "stdout",
     "output_type": "stream",
     "text": [
      "0.0427666314678\n"
     ]
    },
    {
     "data": {
      "text/html": [
       "<div>\n",
       "<table border=\"1\" class=\"dataframe\">\n",
       "  <thead>\n",
       "    <tr style=\"text-align: right;\">\n",
       "      <th></th>\n",
       "      <th>feature</th>\n",
       "      <th>importance</th>\n",
       "    </tr>\n",
       "  </thead>\n",
       "  <tbody>\n",
       "    <tr>\n",
       "      <th>35</th>\n",
       "      <td>Age</td>\n",
       "      <td>0.156283</td>\n",
       "    </tr>\n",
       "    <tr>\n",
       "      <th>41</th>\n",
       "      <td>Session Duration</td>\n",
       "      <td>0.138860</td>\n",
       "    </tr>\n",
       "    <tr>\n",
       "      <th>25</th>\n",
       "      <td>Number of Sessions</td>\n",
       "      <td>0.093981</td>\n",
       "    </tr>\n",
       "    <tr>\n",
       "      <th>50</th>\n",
       "      <td>Gender</td>\n",
       "      <td>0.091869</td>\n",
       "    </tr>\n",
       "    <tr>\n",
       "      <th>11</th>\n",
       "      <td>Sign up flow</td>\n",
       "      <td>0.058606</td>\n",
       "    </tr>\n",
       "    <tr>\n",
       "      <th>10</th>\n",
       "      <td>Sign up method</td>\n",
       "      <td>0.037487</td>\n",
       "    </tr>\n",
       "    <tr>\n",
       "      <th>5</th>\n",
       "      <td>Sign up app: Web</td>\n",
       "      <td>0.035375</td>\n",
       "    </tr>\n",
       "    <tr>\n",
       "      <th>18</th>\n",
       "      <td>Firsr Device: Mac Desktop</td>\n",
       "      <td>0.034319</td>\n",
       "    </tr>\n",
       "  </tbody>\n",
       "</table>\n",
       "</div>"
      ],
      "text/plain": [
       "                      feature  importance\n",
       "35                        Age    0.156283\n",
       "41           Session Duration    0.138860\n",
       "25         Number of Sessions    0.093981\n",
       "50                     Gender    0.091869\n",
       "11               Sign up flow    0.058606\n",
       "10             Sign up method    0.037487\n",
       "5            Sign up app: Web    0.035375\n",
       "18  Firsr Device: Mac Desktop    0.034319"
      ]
     },
     "execution_count": 148,
     "metadata": {},
     "output_type": "execute_result"
    }
   ],
   "source": [
    "impa = imp.copy()\n",
    "impa.set_value(41,'feature','Session Duration');\n",
    "impa.set_value(25,'feature','Number of Sessions');\n",
    "impa.set_value(11,'feature','Sign up flow');\n",
    "impa.set_value(50,'feature','Gender');\n",
    "impa.set_value(10,'feature','Sign up method');\n",
    "impa.set_value(18,'feature','Firsr Device: Mac Desktop');\n",
    "impa.set_value(35,'feature','Age');\n",
    "impa.set_value(5,'feature','Sign up app: Web');\n",
    "\n",
    "\n",
    "impa.set_value(50,'importance',imp.get_value(51,'importance') + imp.get_value(50,'importance'));\n",
    "impa.set_value(35,'importance',imp.get_value(35,'importance') + \n",
    "               imp.get_value(59,'importance') + \n",
    "               imp.get_value(60,'importance') +\n",
    "              imp.get_value(58,'importance') +\n",
    "              imp.get_value(61,'importance')+\n",
    "              imp.get_value(63,'importance') + \n",
    "              imp.get_value(64,'importance'));\n",
    "\n",
    "\n",
    "\n",
    "print(imp.get_value(51,'importance'))\n",
    "impa=impa[impa.feature != 'gender=MALE']\n",
    "impa=impa[impa.feature != 'age=30-34']\n",
    "impa=impa[impa.feature != 'age=25-29']\n",
    "impa=impa[impa.feature != 'age=40-44']\n",
    "impa=impa[impa.feature != 'age=50-54']\n",
    "impa=impa[impa.feature != 'age=55-59']\n",
    "impa=impa[impa.feature != 'age=35-39']\n",
    "\n",
    "impa = impa.sort_values('importance', ascending=False)\n",
    "impa[0:8]"
   ]
  },
  {
   "cell_type": "code",
   "execution_count": 160,
   "metadata": {
    "collapsed": false
   },
   "outputs": [
    {
     "data": {
      "text/plain": [
       "<matplotlib.figure.Figure at 0x14afdb610>"
      ]
     },
     "metadata": {},
     "output_type": "display_data"
    },
    {
     "data": {
      "image/png": "[encoded data removed]",
      "text/plain": [
       "<matplotlib.figure.Figure at 0x14a497850>"
      ]
     },
     "metadata": {},
     "output_type": "display_data"
    }
   ],
   "source": [
    "imp_plt = impa[0:8]\n",
    "plt.rcParams.update({'font.size': 14})\n",
    "plt.figure()\n",
    "imp_plt.plot(kind='bar', x='feature', y='importance', legend=False, figsize=(8, 6), color=\"red\")\n",
    "#plt.title('XGBoost Feature Importance')\n",
    "plt.ylabel('relative importance')\n",
    "plt.xlabel('')\n",
    "#plt.tight_layout(pad=2) \n",
    "plt.tight_layout()\n",
    "#plt.xticks(x, labels, rotation='vertical')\n",
    "plt.gcf().savefig('/Users/vsokolov/papers/dl-stats/paper/fig/feature_importance_xgb.png', bbox_inches='tight')"
   ]
  },
  {
   "cell_type": "code",
   "execution_count": null,
   "metadata": {
    "collapsed": true
   },
   "outputs": [],
   "source": []
  }
 ],
 "metadata": {
  "anaconda-cloud": {},
  "kernelspec": {
   "display_name": "Python 3",
   "language": "python",
   "name": "python3"
  },
  "language_info": {
   "codemirror_mode": {
    "name": "ipython",
    "version": 3
   },
   "file_extension": ".py",
   "mimetype": "text/x-python",
   "name": "python",
   "nbconvert_exporter": "python",
   "pygments_lexer": "ipython3",
   "version": "3.6.4"
  }
 },
 "nbformat": 4,
 "nbformat_minor": 2
}
