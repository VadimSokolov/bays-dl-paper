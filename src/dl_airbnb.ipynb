{
 "cells": [
  {
   "cell_type": "code",
   "execution_count": 1,
   "metadata": {
    "collapsed": false
   },
   "outputs": [
    {
     "name": "stderr",
     "output_type": "stream",
     "text": [
      "Using TensorFlow backend.\n",
      "/Users/vsokolov/anaconda2/lib/python2.7/site-packages/sklearn/cross_validation.py:44: DeprecationWarning: This module was deprecated in version 0.18 in favor of the model_selection module into which all the refactored classes and functions are moved. Also note that the interface of the new CV iterators are different from that of this module. This module will be removed in 0.20.\n",
      "  \"This module will be removed in 0.20.\", DeprecationWarning)\n"
     ]
    }
   ],
   "source": [
    "%matplotlib inline  \n",
    "\n",
    "import tensorflow as tf\n",
    "sess = tf.Session()\n",
    "\n",
    "from keras import backend as K\n",
    "K.set_session(sess)\n",
    "\n",
    "import numpy as np\n",
    "import pandas as pd\n",
    "import matplotlib.pyplot as plt\n",
    "import seaborn as sns\n",
    "import pickle\n",
    "from sklearn.cross_validation import train_test_split\n",
    "from sklearn import preprocessing\n",
    "\n",
    "from sklearn.preprocessing import LabelEncoder\n",
    "\n",
    "from keras.models import Sequential\n",
    "from keras.layers.core import Dense, Dropout, Activation\n",
    "from keras.layers.normalization import BatchNormalization\n",
    "from keras.utils import np_utils\n",
    "from keras import regularizers\n",
    "import xgboost as xgb\n",
    "import matplotlib.pyplot as plt\n"
   ]
  },
  {
   "cell_type": "code",
   "execution_count": 2,
   "metadata": {
    "collapsed": true
   },
   "outputs": [],
   "source": [
    "# ndcg5\n",
    "def ndcg5(preds, y_true):\n",
    "\tk = 5\n",
    "\tn = len(y_true)\n",
    "\tnum_class = preds.shape[1]\n",
    "\tindex = np.argsort(preds, axis=1)\n",
    "\ttop = index[:, -k:][:,::-1]\n",
    "\trel = (np.reshape(y_true, (n, 1))==top).astype(int)\n",
    "\tcal_dcg = lambda y: sum((2**y - 1)/np.log2(range(2, k+2)))\n",
    "\tndcg = np.mean((np.apply_along_axis(cal_dcg, 1, rel)))\n",
    "\treturn 'ndcg5', -ndcg"
   ]
  },
  {
   "cell_type": "code",
   "execution_count": 3,
   "metadata": {
    "collapsed": false
   },
   "outputs": [
    {
     "name": "stdout",
     "output_type": "stream",
     "text": [
      "Loading Data...\n"
     ]
    }
   ],
   "source": [
    "print(\"Loading Data...\")\n",
    "with open(\"../data/airbnb/X.pickle\", 'rb') as fh:\n",
    "\tX = pickle.load(fh)\n",
    "# with open(\"../data/airbnb/X_test.pickle\", 'rb') as fh:\n",
    "# \tX_test = pickle.load(fh)\n",
    "with open(\"../data/airbnb/y.pickle\", 'rb') as fh:\n",
    "\ty = pickle.load(fh)\n",
    "\n",
    "# n = X.shape[0]\n",
    "# ind_train = np.random.choice(range(n), size=int(0.8*n))"
   ]
  },
  {
   "cell_type": "code",
   "execution_count": 4,
   "metadata": {
    "collapsed": true
   },
   "outputs": [],
   "source": [
    "SS = preprocessing.StandardScaler()\n",
    "X_std = SS.fit_transform(X)\n",
    "X_train, X_val, y_train, y_val = train_test_split(X_std, y, test_size=0.1, random_state=0)\n",
    "label_train = np_utils.to_categorical(y_train)\n",
    "label_val = np_utils.to_categorical(y_val)\n",
    "num_class = max(y)+1"
   ]
  },
  {
   "cell_type": "code",
   "execution_count": 5,
   "metadata": {
    "collapsed": false
   },
   "outputs": [
    {
     "name": "stderr",
     "output_type": "stream",
     "text": [
      "/Users/vsokolov/anaconda2/lib/python2.7/site-packages/keras/models.py:826: UserWarning: The `nb_epoch` argument in `fit` has been renamed `epochs`.\n",
      "  warnings.warn('The `nb_epoch` argument in `fit` '\n"
     ]
    },
    {
     "name": "stdout",
     "output_type": "stream",
     "text": [
      "Train on 192105 samples, validate on 21346 samples\n",
      "Epoch 1/20\n",
      "3s - loss: 1.0647 - val_loss: 1.0333\n",
      "Epoch 2/20\n",
      "3s - loss: 1.0347 - val_loss: 1.0299\n",
      "Epoch 3/20\n",
      "3s - loss: 1.0292 - val_loss: 1.0279\n",
      "Epoch 4/20\n",
      "3s - loss: 1.0258 - val_loss: 1.0269\n",
      "Epoch 5/20\n",
      "3s - loss: 1.0235 - val_loss: 1.0253\n",
      "Epoch 6/20\n",
      "3s - loss: 1.0219 - val_loss: 1.0262\n",
      "Epoch 7/20\n",
      "3s - loss: 1.0205 - val_loss: 1.0252\n",
      "Epoch 8/20\n",
      "3s - loss: 1.0192 - val_loss: 1.0246\n",
      "Epoch 9/20\n",
      "3s - loss: 1.0179 - val_loss: 1.0265\n",
      "Epoch 10/20\n",
      "3s - loss: 1.0170 - val_loss: 1.0245\n",
      "Epoch 11/20\n",
      "3s - loss: 1.0162 - val_loss: 1.0232\n",
      "Epoch 12/20\n",
      "3s - loss: 1.0153 - val_loss: 1.0244\n",
      "Epoch 13/20\n",
      "3s - loss: 1.0145 - val_loss: 1.0242\n",
      "Epoch 14/20\n",
      "3s - loss: 1.0137 - val_loss: 1.0234\n",
      "Epoch 15/20\n",
      "3s - loss: 1.0130 - val_loss: 1.0235\n",
      "Epoch 16/20\n",
      "3s - loss: 1.0124 - val_loss: 1.0243\n",
      "Epoch 17/20\n",
      "3s - loss: 1.0117 - val_loss: 1.0241\n",
      "Epoch 18/20\n",
      "3s - loss: 1.0112 - val_loss: 1.0237\n",
      "Epoch 19/20\n",
      "3s - loss: 1.0106 - val_loss: 1.0235\n",
      "Epoch 20/20\n",
      "3s - loss: 1.0101 - val_loss: 1.0233\n"
     ]
    }
   ],
   "source": [
    "# a linear stack of layers\n",
    "model = Sequential()\n",
    "model.add(Dense(64, input_dim=X.shape[1]))\n",
    "model.add(Activation('relu'))\n",
    "#model.add(Dropout(0.05))\n",
    "\n",
    "model.add(Dense(64))\n",
    "model.add(Activation('relu'))\n",
    "#model.add(Dropout(0.05))\n",
    "\n",
    "model.add(Dense(num_class))\n",
    "model.add(Activation('softmax'))\n",
    "\n",
    "# multiclass logloss\n",
    "model.compile(loss='categorical_crossentropy', optimizer='adagrad')\n",
    "\n",
    "# fit\n",
    "# a typical minibatch size is 256\n",
    "# shuffle the samples at each epoch\n",
    "model.fit(X_train, label_train, batch_size=128, nb_epoch=20, validation_data=(X_val, label_val), shuffle=True, verbose=2)\n",
    "\n",
    "preds = model.predict_proba(X_val, verbose=0)"
   ]
  },
  {
   "cell_type": "code",
   "execution_count": 6,
   "metadata": {
    "collapsed": false
   },
   "outputs": [
    {
     "data": {
      "text/plain": [
       "('ndcg5', -0.83380895399747634)"
      ]
     },
     "execution_count": 6,
     "metadata": {},
     "output_type": "execute_result"
    }
   ],
   "source": [
    "ndcg5(preds, y_val)"
   ]
  },
  {
   "cell_type": "code",
   "execution_count": 7,
   "metadata": {
    "collapsed": false
   },
   "outputs": [
    {
     "data": {
      "text/plain": [
       "array(['CA', 'NDF', 'NDF', 'other', 'US', 'NDF', 'US', 'NDF', 'US', 'US',\n",
       "       'NDF', 'NDF', 'NDF', 'NDF', 'FR', 'GB', 'NDF', 'NDF', 'US'], dtype=object)"
      ]
     },
     "execution_count": 7,
     "metadata": {},
     "output_type": "execute_result"
    }
   ],
   "source": [
    "train_users_path = '../data/airbnb/train_users.csv'\n",
    "df_train = pd.read_csv(train_users_path)\n",
    "target = df_train['country_destination']\n",
    "le = LabelEncoder()\n",
    "y = le.fit_transform(target.values)\n",
    "y_val_inv = le.inverse_transform(y_val)\n",
    "y_val_inv[1:20]"
   ]
  },
  {
   "cell_type": "code",
   "execution_count": 8,
   "metadata": {
    "collapsed": false
   },
   "outputs": [],
   "source": [
    "def bar_data(preds, y_true):\n",
    "    k = 5\n",
    "    n = len(y_true)\n",
    "    num_class = preds.shape[1]\n",
    "    index = np.argsort(preds, axis=1)\n",
    "    top = index[:, -k:][:,::-1]\n",
    "    rel = (np.reshape(y_true, (n, 1))==top).astype(int)\n",
    "    cal_dcg = lambda y: sum((2**y - 1)/np.log2(range(2, k+2)))\n",
    "    return rel"
   ]
  },
  {
   "cell_type": "code",
   "execution_count": 9,
   "metadata": {
    "collapsed": false
   },
   "outputs": [],
   "source": [
    "a = bar_data(preds, y_val)"
   ]
  },
  {
   "cell_type": "code",
   "execution_count": 10,
   "metadata": {
    "collapsed": false
   },
   "outputs": [
    {
     "data": {
      "image/png": "[encoded data removed]",
      "text/plain": [
       "<matplotlib.figure.Figure at 0x1eb9dffd0>"
      ]
     },
     "metadata": {},
     "output_type": "display_data"
    }
   ],
   "source": [
    "u_item = np.unique(y_val_inv)\n",
    "d= {}\n",
    "for item in u_item:\n",
    "    ind = np.where(y_val_inv==item)\n",
    "    y_val_inv[ind]\n",
    "    d[item] = (a[ind,1]==1).mean()\n",
    "d.values()\n",
    "y_pos = np.arange(len(d.values()))\n",
    "\n",
    "plt.bar(y_pos,d.values())\n",
    "plt.xticks(y_pos, d.keys());"
   ]
  },
  {
   "cell_type": "code",
   "execution_count": 11,
   "metadata": {
    "collapsed": false
   },
   "outputs": [
    {
     "data": {
      "image/png": "[encoded data removed]",
      "text/plain": [
       "<matplotlib.figure.Figure at 0x10484f350>"
      ]
     },
     "metadata": {},
     "output_type": "display_data"
    }
   ],
   "source": [
    "u_item = np.unique(y_val_inv)\n",
    "d= {}\n",
    "for item in u_item:\n",
    "    ind = np.where(y_val_inv==item)\n",
    "    y_val_inv[ind]\n",
    "    d[item] = (a[ind,1]==1).mean() + (a[ind,2]==1).mean()\n",
    "d.values()\n",
    "y_pos = np.arange(len(d.values()))\n",
    "plt.bar(y_pos,d.values())\n",
    "plt.xticks(y_pos, d.keys());"
   ]
  },
  {
   "cell_type": "code",
   "execution_count": 12,
   "metadata": {
    "collapsed": false
   },
   "outputs": [
    {
     "data": {
      "image/png": "[encoded data removed]",
      "text/plain": [
       "<matplotlib.figure.Figure at 0x1eba0fd10>"
      ]
     },
     "metadata": {},
     "output_type": "display_data"
    }
   ],
   "source": [
    "u_item = np.unique(y_val_inv)\n",
    "d= {}\n",
    "for item in u_item:\n",
    "    ind = np.where(y_val_inv==item)\n",
    "    y_val_inv[ind]\n",
    "    d[item] = (a[ind,1]==1).mean() + (a[ind,2]==1).mean()+ (a[ind,3]==1).mean()\n",
    "d.values()\n",
    "y_pos = np.arange(len(d.values()))\n",
    "plt.bar(y_pos,d.values())\n",
    "plt.xticks(y_pos, d.keys());"
   ]
  },
  {
   "cell_type": "code",
   "execution_count": 13,
   "metadata": {
    "collapsed": false
   },
   "outputs": [
    {
     "name": "stdout",
     "output_type": "stream",
     "text": [
      "AU 0.252974796215\n",
      "CA 0.637121708985\n",
      "DE 0.449732971048\n",
      "ES 1.0353227771\n",
      "FR 2.19713295231\n",
      "GB 1.17117961211\n",
      "IT 1.1992879228\n",
      "NDF 58.9478122365\n",
      "NL 0.313876136044\n",
      "PT 0.112433242762\n",
      "US 28.83444205\n",
      "other 4.84868359412\n"
     ]
    },
    {
     "data": {
      "image/png": "[encoded data removed]",
      "text/plain": [
       "<matplotlib.figure.Figure at 0x1eb936210>"
      ]
     },
     "metadata": {},
     "output_type": "display_data"
    }
   ],
   "source": [
    "u_item = np.unique(y_val_inv)\n",
    "d= {}\n",
    "n = len(y_val) + 0.0\n",
    "for item in u_item:\n",
    "    ind = np.where(y_val_inv==item)\n",
    "    print item, len(ind[0])/n*100\n",
    "    d[item] = ndcg5(preds[ind], y_val[ind])[1]\n",
    "y_pos = np.arange(len(d.values()))\n",
    "plt.bar(y_pos,d.values())\n",
    "plt.xticks(y_pos, d.keys());\n"
   ]
  },
  {
   "cell_type": "code",
   "execution_count": null,
   "metadata": {
    "collapsed": true
   },
   "outputs": [],
   "source": []
  }
 ],
 "metadata": {
  "anaconda-cloud": {},
  "kernelspec": {
   "display_name": "Python 3",
   "language": "python",
   "name": "python3"
  },
  "language_info": {
   "codemirror_mode": {
    "name": "ipython",
    "version": 3
   },
   "file_extension": ".py",
   "mimetype": "text/x-python",
   "name": "python",
   "nbconvert_exporter": "python",
   "pygments_lexer": "ipython3",
   "version": "3.6.4"
  }
 },
 "nbformat": 4,
 "nbformat_minor": 2
}
